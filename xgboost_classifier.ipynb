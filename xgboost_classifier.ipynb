{
 "cells": [
  {
   "cell_type": "code",
   "execution_count": 29,
   "id": "3b156771",
   "metadata": {},
   "outputs": [],
   "source": [
    "import pandas as pd\n",
    "import numpy as np\n",
    "from sklearn.model_selection import train_test_split\n",
    "import xgboost as xgb\n",
    "from sklearn.metrics import accuracy_score, classification_report\n",
    "from biom import load_table\n",
    "from sklearn.preprocessing import LabelEncoder"
   ]
  },
  {
   "cell_type": "code",
   "execution_count": 53,
   "id": "06fa0309",
   "metadata": {},
   "outputs": [
    {
     "name": "stdout",
     "output_type": "stream",
     "text": [
      "Accuracy: 0.4166666666666667\n",
      "                   precision    recall  f1-score   support\n",
      "\n",
      "               AD       0.12      0.08      0.10        13\n",
      "              ASD       0.54      0.58      0.56        26\n",
      "               CD       0.50      0.15      0.24        13\n",
      "    HealthyAdults       0.50      0.75      0.60        24\n",
      "  HealthyChildren       0.65      0.46      0.54        24\n",
      "HealthyMiddleAged       0.47      0.47      0.47        30\n",
      "   HealthySeniors       0.45      0.64      0.53        28\n",
      "  HealthyToddlers       0.59      0.76      0.67        21\n",
      "     HealthyYouth       0.29      0.40      0.33        15\n",
      "               MS       0.00      0.00      0.00         5\n",
      "          Obesity       0.00      0.00      0.00         6\n",
      "               PD       0.00      0.00      0.00         3\n",
      "    Schizophrenia       0.14      0.06      0.08        17\n",
      "              T1D       0.75      0.38      0.50         8\n",
      "              T2D       0.00      0.00      0.00        11\n",
      "               UC       0.00      0.00      0.00         8\n",
      "\n",
      "         accuracy                           0.42       252\n",
      "        macro avg       0.31      0.30      0.29       252\n",
      "     weighted avg       0.40      0.42      0.39       252\n",
      "\n"
     ]
    }
   ],
   "source": [
    "# Step 1: Data Preprocessing\n",
    "biom = load_table('../snakemake/data/Combined_12datasets/12datasets_1258/all_1258.biom')\n",
    "biom_table = biom.to_dataframe()\n",
    "biom_table = biom_table.T\n",
    "metadata = pd.read_csv('../snakemake/data/Combined_12datasets/12datasets_1258/age_sorted/6groups/metadata_1258_age_sorted_6G.txt',\n",
    "                      sep = '\\t')\n",
    "# Extract feature matrix from biom table\n",
    "features = biom_table.iloc[:, :].values\n",
    "\n",
    "# Encode disease classes\n",
    "label_encoder = LabelEncoder()\n",
    "labels = label_encoder.fit_transform(metadata['disease'])\n",
    "\n",
    "# Step 2: Feature Engineering (if necessary)\n",
    "\n",
    "# Step 3: Train-Test Split\n",
    "X_train, X_test, y_train, y_test = train_test_split(features, labels, test_size=0.2, random_state=42)\n",
    "\n",
    "# Step 4: XGBoost Classifier Training\n",
    "model = xgb.XGBClassifier()\n",
    "model.fit(X_train, y_train)\n",
    "# Step 5: Model Evaluation\n",
    "y_pred = model.predict(X_test)\n",
    "accuracy = accuracy_score(y_test, y_pred)\n",
    "print(f\"Accuracy: {accuracy}\")\n",
    "print(classification_report(y_test, y_pred, target_names=label_encoder.classes_))"
   ]
  },
  {
   "cell_type": "code",
   "execution_count": 54,
   "id": "b4180e56",
   "metadata": {},
   "outputs": [
    {
     "name": "stdout",
     "output_type": "stream",
     "text": [
      "Accuracy: 0.29365079365079366\n",
      "              precision    recall  f1-score   support\n",
      "\n",
      "           0       0.00      0.00      0.00        13\n",
      "           1       0.41      0.46      0.44        26\n",
      "           2       0.12      0.08      0.10        13\n",
      "           3       0.41      0.50      0.45        24\n",
      "           4       0.50      0.42      0.45        24\n",
      "           5       0.33      0.30      0.32        30\n",
      "           6       0.26      0.36      0.30        28\n",
      "           7       0.56      0.43      0.49        21\n",
      "           8       0.55      0.40      0.46        15\n",
      "           9       0.00      0.00      0.00         5\n",
      "          10       0.00      0.00      0.00         6\n",
      "          11       0.00      0.00      0.00         3\n",
      "          12       0.08      0.06      0.07        17\n",
      "          13       0.44      0.50      0.47         8\n",
      "          14       0.00      0.00      0.00        11\n",
      "          15       0.00      0.00      0.00         8\n",
      "\n",
      "    accuracy                           0.29       252\n",
      "   macro avg       0.23      0.22      0.22       252\n",
      "weighted avg       0.30      0.29      0.30       252\n",
      "\n"
     ]
    }
   ],
   "source": [
    "import pandas as pd\n",
    "from sklearn.model_selection import train_test_split\n",
    "from sklearn.ensemble import GradientBoostingClassifier\n",
    "from sklearn.metrics import accuracy_score, classification_report\n",
    "\n",
    "# Step 1: Data Preprocessing\n",
    "biom = load_table('../snakemake/data/Combined_12datasets/12datasets_1258/all_1258.biom')\n",
    "biom_table = biom.to_dataframe()\n",
    "biom_table = biom_table.T\n",
    "metadata = pd.read_csv('../snakemake/data/Combined_12datasets/12datasets_1258/age_sorted/6groups/metadata_1258_age_sorted_6G.txt',\n",
    "                      sep = '\\t')\n",
    "# Extract feature matrix from biom table\n",
    "features = biom_table.iloc[:, :].values\n",
    "\n",
    "# Encode disease classes\n",
    "label_encoder = LabelEncoder()\n",
    "labels = label_encoder.fit_transform(metadata['disease'])\n",
    "\n",
    "# Step 2: Feature Engineering (if necessary)\n",
    "\n",
    "# Step 3: Train-Test Split\n",
    "X_train, X_test, y_train, y_test = train_test_split(features, labels, test_size=0.2, random_state=42)\n",
    "\n",
    "# Step 3: Gradient Boosting Classifier Training\n",
    "model = GradientBoostingClassifier()\n",
    "model.fit(X_train, y_train)\n",
    "\n",
    "# Step 4: Model Evaluation\n",
    "y_pred = model.predict(X_test)\n",
    "accuracy = accuracy_score(y_test, y_pred)\n",
    "print(f\"Accuracy: {accuracy}\")\n",
    "print(classification_report(y_test, y_pred))"
   ]
  }
 ],
 "metadata": {
  "kernelspec": {
   "display_name": "Python 3 (ipykernel)",
   "language": "python",
   "name": "python3"
  },
  "language_info": {
   "codemirror_mode": {
    "name": "ipython",
    "version": 3
   },
   "file_extension": ".py",
   "mimetype": "text/x-python",
   "name": "python",
   "nbconvert_exporter": "python",
   "pygments_lexer": "ipython3",
   "version": "3.8.13"
  }
 },
 "nbformat": 4,
 "nbformat_minor": 5
}
