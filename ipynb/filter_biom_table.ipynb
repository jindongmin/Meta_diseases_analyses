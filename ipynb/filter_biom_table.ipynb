{
 "cells": [
  {
   "cell_type": "code",
   "execution_count": 5,
   "id": "852bb880",
   "metadata": {},
   "outputs": [],
   "source": [
    "import biom\n",
    "import pandas as pd\n",
    "import numpy as np"
   ]
  },
  {
   "cell_type": "code",
   "execution_count": 2,
   "id": "c11faa33",
   "metadata": {},
   "outputs": [],
   "source": [
    "#CLR transform\n",
    "def clr(table : biom.Table):\n",
    "    X = table.to_dataframe().T.values\n",
    "    logX = np.log(X + 1)\n",
    "    clrX = logX - logX.mean(axis=1).reshape(-1, 1)     \n",
    "    return biom.Table(clrX.T, table.ids(axis='observation'), table.ids())"
   ]
  },
  {
   "cell_type": "code",
   "execution_count": null,
   "id": "01600621",
   "metadata": {},
   "outputs": [],
   "source": [
    "#Qin2012T2D\n",
    "\n",
    "table = biom.load_table(\"../Qin2012T2D.biom\")\n",
    "metadata = pd.read_csv(\"Qin2012T2D_metadata_new221_matched_170.txt\",sep = '\\t', index_col = 0)\n",
    "features_to_keep = metadata.index.tolist()\n",
    "table_filt = table.filter(features_to_keep, axis=\"sample\")\n",
    "with biom.util.biom_open('Qin2012T2D_170matched.biom', 'w') as f:\n",
    "     table_filt.to_hdf5(f, 'counts')\n",
    "        "
   ]
  },
  {
   "cell_type": "code",
   "execution_count": 6,
   "id": "9328364d",
   "metadata": {},
   "outputs": [],
   "source": [
    "#Laske2022AD\n",
    "table = biom.load_table(\"../../../snakemake/data/Laske2022AD/Laske2022AD_filtered.biom\")\n",
    "new_table = clr(table)"
   ]
  },
  {
   "cell_type": "code",
   "execution_count": 7,
   "id": "8c29501e",
   "metadata": {
    "scrolled": true
   },
   "outputs": [
    {
     "data": {
      "text/plain": [
       "3443 x 150 <class 'biom.table.Table'> with 516450 nonzero entries (100% dense)"
      ]
     },
     "execution_count": 7,
     "metadata": {},
     "output_type": "execute_result"
    }
   ],
   "source": [
    "new_table"
   ]
  },
  {
   "cell_type": "code",
   "execution_count": 8,
   "id": "a016936d",
   "metadata": {},
   "outputs": [
    {
     "data": {
      "text/plain": [
       "3443 x 150 <class 'biom.table.Table'> with 381245 nonzero entries (73% dense)"
      ]
     },
     "execution_count": 8,
     "metadata": {},
     "output_type": "execute_result"
    }
   ],
   "source": [
    "table"
   ]
  },
  {
   "cell_type": "code",
   "execution_count": 9,
   "id": "74b5e134",
   "metadata": {},
   "outputs": [],
   "source": [
    "with biom.util.biom_open('../../../snakemake/data/Laske2022AD/Laske2022AD_filtered_clr.biom', 'w') as f:\n",
    "     new_table.to_hdf5(f, 'counts')"
   ]
  },
  {
   "cell_type": "code",
   "execution_count": null,
   "id": "962a6775",
   "metadata": {},
   "outputs": [],
   "source": [
    "#/mnt/home/djin/ceph/snakemake/data/Laske2022AD/classify\n",
    "#jobid: 1985765"
   ]
  },
  {
   "cell_type": "code",
   "execution_count": 10,
   "id": "d70d35a2",
   "metadata": {},
   "outputs": [],
   "source": [
    "#ASD_250samples\n",
    "table = biom.load_table(\"../../../snakemake/data/ASD/ASD_250_3studies.biom\")\n",
    "new_table = clr(table)"
   ]
  },
  {
   "cell_type": "code",
   "execution_count": 11,
   "id": "1e306617",
   "metadata": {},
   "outputs": [
    {
     "data": {
      "text/plain": [
       "3444 x 250 <class 'biom.table.Table'> with 635665 nonzero entries (73% dense)"
      ]
     },
     "execution_count": 11,
     "metadata": {},
     "output_type": "execute_result"
    }
   ],
   "source": [
    "table"
   ]
  },
  {
   "cell_type": "code",
   "execution_count": 12,
   "id": "f3a75aa6",
   "metadata": {
    "scrolled": true
   },
   "outputs": [
    {
     "data": {
      "text/plain": [
       "3444 x 250 <class 'biom.table.Table'> with 861000 nonzero entries (100% dense)"
      ]
     },
     "execution_count": 12,
     "metadata": {},
     "output_type": "execute_result"
    }
   ],
   "source": [
    "new_table"
   ]
  },
  {
   "cell_type": "code",
   "execution_count": 13,
   "id": "8b2be68d",
   "metadata": {},
   "outputs": [],
   "source": [
    "with biom.util.biom_open('../../../snakemake/data/ASD/ASD_250_3studies_clr.biom', 'w') as f:\n",
    "     new_table.to_hdf5(f, 'counts')"
   ]
  },
  {
   "cell_type": "code",
   "execution_count": 19,
   "id": "41456377",
   "metadata": {},
   "outputs": [],
   "source": [
    "#/mnt/home/djin/ceph/snakemake/data/Combined_12datasets/biom\n",
    "woltka tools merge -i Laske2022AD_filtered.biom \\\n",
    "                   -i iMSMS2021MS_filtered.biom \\\n",
    "                   -i Qin2012T2D_filtered.biom \\\n",
    "                   -i Dan2020ASD.biom \\\n",
    "                   -i Wang2020ASD_filtered.biom \\\n",
    "                   -i Franzosa2019IBD_CD.biom \\\n",
    "                   -i Zhu2020Schizophrenia_filtered_new.biom \\\n",
    "                   -i Wan2022ASD.biom  \\\n",
    "                   -i Nielsen2014UC_filtered_140.biom \\\n",
    "                   -i Qin2010IBD_filtered_100.biom \\\n",
    "                   -i Qian2020PD.biom \\\n",
    "                   -i diabimmune.biom \\\n",
    "                   -o combined_12datasets.biom\n",
    "\n",
    "# Reading profiles...\n",
    "#   Read Laske2022AD_filtered.biom. Samples: 150, features: 3443.☑️\n",
    "#   Read iMSMS2021MS_filtered.biom. Samples: 60, features: 3091. ☑️\n",
    "#   Read Qin2012T2D_filtered.biom. Samples: 152, features: 3443. ☑️\n",
    "#   Read Dan2020ASD.biom. Samples: 60, features: 3432.☑️\n",
    "#   Read Wang2020ASD_filtered.biom. Samples: 62, features: 3436.☑️\n",
    "#   Read Franzosa2019IBD_CD.biom. Samples: 108, features: 3442.☑️\n",
    "#   Read Zhu2020Schizophrenia_filtered_new.biom. Samples: 162, features: 3443.☑️\n",
    "#   Read Wan2022ASD.biom. Samples: 128, features: 3444.☑️\n",
    "#   Read Nielsen2014UC_filtered_140.biom. Samples: 140, features: 3440.☑️\n",
    "#   Read Qin2010IBD_filtered_100.biom. Samples: 100, features: 3338.☑️\n",
    "#   Read Qian2020PD.biom. Samples: 80, features: 3438. ☑️\n",
    "#   Read diabimmune.biom. Samples: 106, features: 3084.☑️\n",
    "# Done. Number of profiles read: 12.\n",
    "# Merging profiles... Done.\n",
    "# Number of samples after merging: 1308.\n",
    "# Number of features after merging: 3444.\n",
    "# Merged profile written."
   ]
  },
  {
   "cell_type": "code",
   "execution_count": null,
   "id": "fe5abe9c",
   "metadata": {},
   "outputs": [],
   "source": [
    "qiime tools import \\\n",
    "  --input-path biom/combined_12datasets.biom \\\n",
    "  --type 'FeatureTable[Frequency]' \\\n",
    "  --input-format BIOMV210Format \\\n",
    "  --output-path combined_12datasets.qza\n",
    "\n",
    "\n",
    "qiime sample-classifier classify-samples \\\n",
    "  --i-table combined_12datasets.qza \\\n",
    "  --m-metadata-file metadata.txt \\\n",
    "  --m-metadata-column Status \\\n",
    "  --p-optimize-feature-selection \\\n",
    "  --p-parameter-tuning \\\n",
    "  --p-estimator GradientBoostingClassifier \\\n",
    "  --p-n-estimators 100 \\\n",
    "  --p-random-state 123 \\\n",
    "  --output-dir GB-pictures-classifier_p100"
   ]
  }
 ],
 "metadata": {
  "kernelspec": {
   "display_name": "Python 3 (ipykernel)",
   "language": "python",
   "name": "python3"
  },
  "language_info": {
   "codemirror_mode": {
    "name": "ipython",
    "version": 3
   },
   "file_extension": ".py",
   "mimetype": "text/x-python",
   "name": "python",
   "nbconvert_exporter": "python",
   "pygments_lexer": "ipython3",
   "version": "3.8.13"
  }
 },
 "nbformat": 4,
 "nbformat_minor": 5
}
