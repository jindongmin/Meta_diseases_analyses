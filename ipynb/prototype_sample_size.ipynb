{
 "cells": [
  {
   "cell_type": "code",
   "execution_count": 43,
   "id": "019d0276",
   "metadata": {},
   "outputs": [],
   "source": [
    "from itertools import combinations\n",
    "\n",
    "import numpy as np\n",
    "import scipy as sp\n",
    "from skbio.stats.distance import DistanceMatrix\n",
    "from skbio.util import get_data_path\n",
    "import biom\n",
    "import pandas as pd\n",
    "from qiime2 import Visualization\n",
    "\n",
    "def _validate_parameters(dm, num_prototypes, seedset=None):\n",
    "    '''Validate the paramters for each algorithm.\n",
    "    Parameters\n",
    "    ----------\n",
    "    dm: skbio.stats.distance.DistanceMatrix\n",
    "        Pairwise distances for all elements in the full set S.\n",
    "    num_prototypes: int\n",
    "        Number of prototypes to select for distance matrix.\n",
    "        Must be >= 2, since a single prototype is useless.\n",
    "        Must be smaller than the number of elements in the distance matrix,\n",
    "        otherwise no reduction is necessary.\n",
    "    seedset: iterable of str\n",
    "        A set of element IDs that are pre-selected as prototypes. Remaining\n",
    "        prototypes are then recruited with the prototype selection algorithm.\n",
    "        Warning: It will most likely violate the global objective function.\n",
    "    Raises\n",
    "    ------\n",
    "    ValueError\n",
    "        The number of prototypes to be found should be at least 2 and at most\n",
    "        one element smaller than elements in the distance matrix. Otherwise, a\n",
    "        ValueError is raised.\n",
    "        The IDs in the seed set must be unique, and must be present in the\n",
    "        distance matrix. Otherwise, a ValueError is raised.\n",
    "        The size of the seed set must be smaller than the number of prototypes\n",
    "        to be found. Otherwise, a ValueError is raised.\n",
    "    '''\n",
    "    if num_prototypes < 2:\n",
    "        raise ValueError(\"'num_prototypes' must be >= 2, since a single \"\n",
    "                         \"prototype is useless.\")\n",
    "    if num_prototypes >= dm.shape[0]:\n",
    "        raise ValueError(\"'num_prototypes' must be smaller than the number of \"\n",
    "                         \"elements in the distance matrix, otherwise no \"\n",
    "                         \"reduction is necessary.\")\n",
    "    if seedset is not None:\n",
    "        seeds = set(seedset)\n",
    "        if len(seeds) < len(seedset):\n",
    "            raise ValueError(\"There are duplicated IDs in 'seedset'.\")\n",
    "        if not seeds < set(dm.ids):  # test if set A is a subset of set B\n",
    "            raise ValueError(\"'seedset' is not a subset of the element IDs in \"\n",
    "                             \"the distance matrix.\")\n",
    "        if len(seeds) >= num_prototypes:\n",
    "            raise ValueError(\"Size of 'seedset' must be smaller than the \"\n",
    "                             \"number of prototypes to select.\")\n",
    "\n",
    "def prototype_selection_constructive_maxdist(dm, num_prototypes, seedset=None):\n",
    "    '''Heuristically select k prototypes for given distance matrix.\n",
    "       Prototype selection is NP-hard. This is an implementation of a greedy\n",
    "       correctness heuristic: Greedily grow the set of prototypes by adding the\n",
    "       element with the largest sum of distances to the non-prototype elements.\n",
    "       Start with the two elements that are globally most distant from each\n",
    "       other. The set of prototypes is then constructively grown by adding the\n",
    "       element showing largest sum of distances to all non-prototype elements\n",
    "       in the distance matrix in each iteration.\n",
    "    Parameters\n",
    "    ----------\n",
    "    dm: skbio.stats.distance.DistanceMatrix\n",
    "        Pairwise distances for all elements in the full set S.\n",
    "    num_prototypes: int\n",
    "        Number of prototypes to select for distance matrix.\n",
    "        Must be >= 2, since a single prototype is useless.\n",
    "        Must be smaller than the number of elements in the distance matrix,\n",
    "        otherwise no reduction is necessary.\n",
    "    seedset: iterable of str\n",
    "        A set of element IDs that are pre-selected as prototypes. Remaining\n",
    "        prototypes are then recruited with the prototype selection algorithm.\n",
    "        Warning: It will most likely violate the global objective function.\n",
    "    Returns\n",
    "    -------\n",
    "    list of str\n",
    "        A sequence holding selected prototypes, i.e. a sub-set of the\n",
    "        IDs of the elements in the distance matrix.\n",
    "    Raises\n",
    "    ------\n",
    "    ValueError\n",
    "        The number of prototypes to be found should be at least 2 and at most\n",
    "        one element smaller than elements in the distance matrix. Otherwise, a\n",
    "        ValueError is raised.\n",
    "    Notes\n",
    "    -----\n",
    "    Timing: %timeit -n 100 prototype_selection_constructive_maxdist(dm, 100)\n",
    "            100 loops, best of 3: 1.43 s per loop\n",
    "            where the dm holds 27,398 elements\n",
    "    function signature with type annotation for future use with python >= 3.5:\n",
    "    def prototype_selection_constructive_maxdist(dm: DistanceMatrix,\n",
    "    num_prototypes: int, seedset: List[str]) -> List[str]:\n",
    "    '''\n",
    "    _validate_parameters(dm, num_prototypes, seedset)\n",
    "\n",
    "    # initially mark all elements as uncovered, i.e. as not being a prototype\n",
    "    uncovered = np.asarray([np.True_] * dm.shape[0])\n",
    "    res_set, num_found_prototypes = [], 0\n",
    "\n",
    "    if seedset is not None:\n",
    "        # mark elements in the seedset as found\n",
    "        seedset = set(seedset)\n",
    "        for idx, id_ in enumerate(dm.ids):\n",
    "            if id_ in seedset:\n",
    "                uncovered[idx] = np.False_\n",
    "                res_set.append(idx)\n",
    "    else:\n",
    "        # the first two prototypes are those elements that have the globally\n",
    "        # maximal distance in the distance matrix. Mark those two elements as\n",
    "        # being covered, i.e. prototypes\n",
    "        res_set = list(np.unravel_index(dm.data.argmax(), dm.data.shape))\n",
    "        uncovered[res_set] = np.False_\n",
    "\n",
    "    # counts the number of already found prototypes\n",
    "    num_found_prototypes = len(res_set)\n",
    "\n",
    "    # repeat until enough prototypes have been selected:\n",
    "    # the new prototype is the element that has maximal distance sum to all\n",
    "    # non-prototype elements in the distance matrix.\n",
    "    while num_found_prototypes < num_prototypes:\n",
    "        max_elm_idx = (dm.data[res_set, :].sum(axis=0) * uncovered).argmax()\n",
    "        uncovered[max_elm_idx] = np.False_\n",
    "        num_found_prototypes += 1\n",
    "        res_set.append(max_elm_idx)\n",
    "\n",
    "    # return the ids of the selected prototype elements\n",
    "    return [dm.ids[idx] for idx, x in enumerate(uncovered) if not x]\n"
   ]
  },
  {
   "cell_type": "code",
   "execution_count": 2,
   "id": "50a8fb9c",
   "metadata": {},
   "outputs": [
    {
     "data": {
      "text/plain": [
       "['ERR2608608',\n",
       " 'ERR2608657',\n",
       " 'ERR2608613',\n",
       " 'ERR2608671',\n",
       " 'ERR2608662',\n",
       " 'ERR2608655',\n",
       " 'ERR2608663',\n",
       " 'ERR2608620',\n",
       " 'ERR2608609',\n",
       " 'ERR2608665',\n",
       " 'ERR2608628',\n",
       " 'ERR2608632',\n",
       " 'ERR2608672',\n",
       " 'ERR2608658',\n",
       " 'ERR2608659',\n",
       " 'ERR2608637',\n",
       " 'ERR2608634',\n",
       " 'ERR2608984',\n",
       " 'ERR2608656',\n",
       " 'ERR2608986',\n",
       " 'ERR2608646',\n",
       " 'ERR2608645',\n",
       " 'ERR2608635',\n",
       " 'ERR2608661',\n",
       " 'ERR2608644',\n",
       " 'ERR2608648',\n",
       " 'ERR2608618',\n",
       " 'ERR2608611',\n",
       " 'ERR2608615',\n",
       " 'ERR2608654']"
      ]
     },
     "execution_count": 2,
     "metadata": {},
     "output_type": "execute_result"
    }
   ],
   "source": [
    "#Wang2020ASD\n",
    "dm = DistanceMatrix.read(get_data_path('/mnt/home/djin/ceph/snakemake/data/Wang2020/beta/data/distance-matrix.tsv'))\n",
    "prototype_selection_constructive_maxdist(dm, 30, seedset=None)"
   ]
  },
  {
   "cell_type": "code",
   "execution_count": 6,
   "id": "c668cbb4",
   "metadata": {},
   "outputs": [
    {
     "name": "stdout",
     "output_type": "stream",
     "text": [
      "/mnt/ceph/users/djin/jupyter_notebook/Meta_diseases_analyses/ipynb\r\n"
     ]
    }
   ],
   "source": [
    "#Qin2012T2D\n",
    "!pwd"
   ]
  },
  {
   "cell_type": "code",
   "execution_count": 29,
   "id": "32c10d16",
   "metadata": {},
   "outputs": [],
   "source": [
    "#Filter the biom table to include 170 matched samples only:\n",
    "table = biom.load_table(\"/mnt/home/djin/ceph/snakemake/data/Qin2012T2D/Qin2012T2D.biom\")\n",
    "metadata = pd.read_csv(\"/mnt/home/djin/ceph/snakemake/data/Qin2012T2D/Qin2012T2D_metadata_new_matched_170.txt\",sep = '\\t', index_col = 0)\n",
    "features_to_keep = metadata.index.tolist()\n",
    "table_filt = table.filter(features_to_keep, axis=\"sample\")\n",
    "with biom.util.biom_open('/mnt/home/djin/ceph/snakemake/data/Qin2012T2D/Qin2012T2D_prototype.biom', 'w') as f:\n",
    "    table_filt.to_hdf5(f, 'counts')"
   ]
  },
  {
   "cell_type": "code",
   "execution_count": 8,
   "id": "ddeae919",
   "metadata": {},
   "outputs": [],
   "source": [
    "#Qin2012T2D_170samples.qza\n",
    "qiime tools import \\\n",
    " --input-path /mnt/home/djin/ceph/snakemake/data/Qin2012T2D/Qin2012T2D_prototype.biom \\\n",
    " --type 'FeatureTable[Frequency]' \\\n",
    " --input-format BIOMV210Format \\\n",
    " --output-path /mnt/home/djin/ceph/snakemake/data/Qin2012T2D/Qin2012T2D_prototype.qza\n",
    "\n",
    "qiime diversity beta \\\n",
    " --i-table /mnt/home/djin/ceph/snakemake/data/Qin2012T2D/Qin2012T2D_prototype.qza \\\n",
    " --p-metric 'braycurtis' \\\n",
    " --o-distance-matrix /mnt/home/djin/ceph/snakemake/data/Qin2012T2D/Qin2012T2D_prototype_beta.qza"
   ]
  },
  {
   "cell_type": "code",
   "execution_count": 30,
   "id": "d77ee4d0",
   "metadata": {},
   "outputs": [],
   "source": [
    "dm = DistanceMatrix.read(get_data_path('/mnt/home/djin/ceph/snakemake/data/Qin2012T2D/Qin2012T2D_prototype/data/distance-matrix.tsv'))\n",
    "features_to_keep = prototype_selection_constructive_maxdist(dm, 60, seedset=None)"
   ]
  },
  {
   "cell_type": "code",
   "execution_count": 32,
   "id": "a3c2c977",
   "metadata": {},
   "outputs": [],
   "source": [
    "#features_to_keep"
   ]
  },
  {
   "cell_type": "code",
   "execution_count": 33,
   "id": "28468837",
   "metadata": {},
   "outputs": [],
   "source": [
    "#Filter the biom table:\n",
    "table = biom.load_table(\"/mnt/home/djin/ceph/snakemake/data/Qin2012T2D/Qin2012T2D.biom\")\n",
    "table_filt = table.filter(features_to_keep, axis=\"sample\")\n",
    "with biom.util.biom_open('/mnt/home/djin/ceph/snakemake/data/Qin2012T2D/Qin2012T2D_prototype.biom', 'w') as f:\n",
    "    table_filt.to_hdf5(f, 'counts')"
   ]
  },
  {
   "cell_type": "code",
   "execution_count": 34,
   "id": "ae745114",
   "metadata": {},
   "outputs": [],
   "source": [
    "#filter the metadata\n",
    "Qin2010T2D = pd.read_csv(\"/mnt/home/djin/ceph/snakemake/data/Qin2012T2D/Qin2012T2D_metadata_new_matched_170.txt\", sep = '\\t')"
   ]
  },
  {
   "cell_type": "code",
   "execution_count": 35,
   "id": "46863577",
   "metadata": {},
   "outputs": [],
   "source": [
    "#filter Qin2010T2D\n",
    "Qin2010T2D_prototype = Qin2010T2D.loc[Qin2010T2D['featureid'].isin(features_to_keep)]"
   ]
  },
  {
   "cell_type": "code",
   "execution_count": 36,
   "id": "143fa1c0",
   "metadata": {},
   "outputs": [
    {
     "data": {
      "text/plain": [
       "0       True\n",
       "2       True\n",
       "4       True\n",
       "7       True\n",
       "11      True\n",
       "12      True\n",
       "16      True\n",
       "17      True\n",
       "19      True\n",
       "26     False\n",
       "36     False\n",
       "38     False\n",
       "39     False\n",
       "41     False\n",
       "43     False\n",
       "49     False\n",
       "51     False\n",
       "52     False\n",
       "59     False\n",
       "61      True\n",
       "62      True\n",
       "66      True\n",
       "67      True\n",
       "71      True\n",
       "72      True\n",
       "74      True\n",
       "76      True\n",
       "77      True\n",
       "78      True\n",
       "80      True\n",
       "91     False\n",
       "92     False\n",
       "99     False\n",
       "100    False\n",
       "109    False\n",
       "110    False\n",
       "121    False\n",
       "125    False\n",
       "127    False\n",
       "129    False\n",
       "130    False\n",
       "131    False\n",
       "132    False\n",
       "133    False\n",
       "134     True\n",
       "136     True\n",
       "140     True\n",
       "144     True\n",
       "146     True\n",
       "148     True\n",
       "152     True\n",
       "153     True\n",
       "155     True\n",
       "156     True\n",
       "158     True\n",
       "160     True\n",
       "162     True\n",
       "163     True\n",
       "167     True\n",
       "168     True\n",
       "Name: Diabetic, dtype: bool"
      ]
     },
     "execution_count": 36,
     "metadata": {},
     "output_type": "execute_result"
    }
   ],
   "source": [
    "Qin2010T2D_prototype['Diabetic'] == 'Y'"
   ]
  },
  {
   "cell_type": "code",
   "execution_count": 37,
   "id": "e136e68d",
   "metadata": {},
   "outputs": [],
   "source": [
    "Qin2010T2D_prototype.to_csv('/mnt/home/djin/ceph/snakemake/data/Qin2012T2D/Qin2012T2D_prototye.txt',index=False, sep = \"\\t\")"
   ]
  },
  {
   "cell_type": "code",
   "execution_count": null,
   "id": "d94e0784",
   "metadata": {},
   "outputs": [],
   "source": [
    "#build the classifier\n",
    "#!/bin/sh\n",
    "#SBATCH --job-name=q2\n",
    "#SBATCH --mail-type=END\n",
    "#SBATCH --mail-user=dj2080@nyu.edu\n",
    "#SBATCH --output=slurm_%j.out\n",
    "\n",
    "\n",
    "qiime tools import \\\n",
    " --input-path ../Qin2012T2D_prototype.biom \\\n",
    " --type 'FeatureTable[Frequency]' \\\n",
    " --input-format BIOMV210Format \\\n",
    " --output-path Qin2012T2D_prototype.qza\n",
    "\n",
    "\n",
    "qiime sample-classifier classify-samples \\\n",
    "  --i-table Qin2012T2D_prototype.qza \\\n",
    "  --m-metadata-file ../Qin2012T2D_prototye.txt \\\n",
    "  --m-metadata-column Diabetic \\\n",
    "  --p-optimize-feature-selection \\\n",
    "  --p-parameter-tuning \\\n",
    "  --p-estimator GradientBoostingClassifier \\\n",
    "  --p-n-estimators 20 \\\n",
    "  --p-random-state 123 \\\n",
    "  --output-dir moving-pictures-classifier_GB_prototype"
   ]
  },
  {
   "cell_type": "code",
   "execution_count": 42,
   "id": "8cef46ae",
   "metadata": {
    "scrolled": true
   },
   "outputs": [
    {
     "data": {
      "text/html": [
       "<div><img onload=\"(function(div, url){\n",
       "if (typeof require !== 'undefined') {\n",
       "    var baseURL = require.toUrl('').split('/').slice(0, -2).join('/');\n",
       "} else {\n",
       "    var baseURL = JSON.parse(\n",
       "        document.getElementById('jupyter-config-data').innerHTML\n",
       "    ).baseUrl.slice(0, -1);\n",
       "}\n",
       "url = baseURL + url;\n",
       "fetch(url).then(function(res) {\n",
       "    if (res.status === 404) {\n",
       "        div.innerHTML = 'Install QIIME 2 Jupyter extension with:<br />' +\n",
       "                        '<code>jupyter serverextension enable --py qiime2' +\n",
       "                        ' --sys-prefix</code><br />then restart your server.' +\n",
       "                        '<br /><br />(Interactive output not available on ' +\n",
       "                        'static notebook viewer services like nbviewer.)';\n",
       "    } else if (res.status === 409) {\n",
       "        div.innerHTML = 'Visualization no longer in scope. Re-run this cell' +\n",
       "                        ' to see the visualization.';\n",
       "    } else if (res.ok) {\n",
       "        url = res.url;\n",
       "        div.innerHTML = '<iframe src=\\'' + url + '\\' style=\\'' +\n",
       "                        'width: 100%; height: 700px; border: 0;\\'>' +\n",
       "                        '</iframe><hr />Open in a: <a href=\\'' + url + '\\'' +\n",
       "                        ' target=\\'_blank\\'>new window</a>'\n",
       "    } else {\n",
       "        div.innerHTML = 'Something has gone wrong. Check notebook server for' +\n",
       "                        ' errors.';\n",
       "    }\n",
       "});\n",
       "})(this.parentElement, '/qiime2/redirect?location=/tmp/qiime2/djin/data/0b1cd748-3268-4f36-9376-ba8b5be4a778')\" src=\"data:image/gif;base64,R0lGODlhAQABAIAAAP///wAAACH5BAEAAAAALAAAAAABAAEAAAICRAEAOw==\" /></div>"
      ],
      "text/plain": [
       "<visualization: Visualization uuid: 0b1cd748-3268-4f36-9376-ba8b5be4a778>"
      ]
     },
     "execution_count": 42,
     "metadata": {},
     "output_type": "execute_result"
    }
   ],
   "source": [
    "Visualization.load('/mnt/home/djin/ceph/snakemake/data/Qin2012T2D/classify/moving-pictures-classifier_GB_prototype/accuracy_results.qzv')"
   ]
  },
  {
   "cell_type": "code",
   "execution_count": 44,
   "id": "c0e55a6b",
   "metadata": {},
   "outputs": [],
   "source": [
    "table = biom.load_table(\"/mnt/home/djin/ceph/snakemake/data/Dan2020ASD_rl150/classify/phylo-table-copy/data/feature-table.biom\")\n"
   ]
  },
  {
   "cell_type": "code",
   "execution_count": 48,
   "id": "b8ab2bed",
   "metadata": {},
   "outputs": [
    {
     "data": {
      "text/plain": [
       "6982 x 60 <class 'biom.table.Table'> with 337494 nonzero entries (80% dense)"
      ]
     },
     "execution_count": 48,
     "metadata": {},
     "output_type": "execute_result"
    }
   ],
   "source": [
    "table"
   ]
  },
  {
   "cell_type": "code",
   "execution_count": 51,
   "id": "d9c5d3b8",
   "metadata": {},
   "outputs": [
    {
     "data": {
      "text/plain": [
       "Index(['GUT_GENOME113464', 'GUT_GENOME100501', 'GUT_GENOME258656',\n",
       "       'GUT_GENOME265996', 'n4', 'n5', 'GUT_GENOME252369', 'GUT_GENOME102756',\n",
       "       'n8', 'n9',\n",
       "       ...\n",
       "       'GUT_GENOME139700', 'GUT_GENOME134384', 'n6974', 'n6975', 'n6976',\n",
       "       'n6977', 'GUT_GENOME275558', 'n6979', 'GUT_GENOME258988', 'n6981'],\n",
       "      dtype='object', length=6982)"
      ]
     },
     "execution_count": 51,
     "metadata": {},
     "output_type": "execute_result"
    }
   ],
   "source": [
    "table.to_dataframe().index"
   ]
  }
 ],
 "metadata": {
  "kernelspec": {
   "display_name": "Python 3 (ipykernel)",
   "language": "python",
   "name": "python3"
  },
  "language_info": {
   "codemirror_mode": {
    "name": "ipython",
    "version": 3
   },
   "file_extension": ".py",
   "mimetype": "text/x-python",
   "name": "python",
   "nbconvert_exporter": "python",
   "pygments_lexer": "ipython3",
   "version": "3.8.13"
  }
 },
 "nbformat": 4,
 "nbformat_minor": 5
}
