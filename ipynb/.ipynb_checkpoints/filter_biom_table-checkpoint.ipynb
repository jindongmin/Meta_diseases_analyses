{
 "cells": [
  {
   "cell_type": "code",
   "execution_count": 5,
   "id": "852bb880",
   "metadata": {},
   "outputs": [],
   "source": [
    "import biom\n",
    "import pandas as pd\n",
    "import numpy as np"
   ]
  },
  {
   "cell_type": "code",
   "execution_count": 2,
   "id": "e8071787",
   "metadata": {},
   "outputs": [],
   "source": [
    "#CLR transform\n",
    "def clr(table : biom.Table):\n",
    "    X = table.to_dataframe().T.values\n",
    "    logX = np.log(X + 1)\n",
    "    clrX = logX - logX.mean(axis=1).reshape(-1, 1)     \n",
    "    return biom.Table(clrX.T, table.ids(axis='observation'), table.ids())"
   ]
  },
  {
   "cell_type": "code",
   "execution_count": null,
   "id": "01600621",
   "metadata": {},
   "outputs": [],
   "source": [
    "#Qin2012T2D\n",
    "\n",
    "table = biom.load_table(\"../Qin2012T2D.biom\")\n",
    "metadata = pd.read_csv(\"Qin2012T2D_metadata_new221_matched_170.txt\",sep = '\\t', index_col = 0)\n",
    "features_to_keep = metadata.index.tolist()\n",
    "table_filt = table.filter(features_to_keep, axis=\"sample\")\n",
    "with biom.util.biom_open('Qin2012T2D_170matched.biom', 'w') as f:\n",
    "     table_filt.to_hdf5(f, 'counts')\n",
    "        "
   ]
  },
  {
   "cell_type": "code",
   "execution_count": 6,
   "id": "9328364d",
   "metadata": {},
   "outputs": [],
   "source": [
    "#Laske2022AD\n",
    "table = biom.load_table(\"../../../snakemake/data/Laske2022AD/Laske2022AD_filtered.biom\")\n",
    "new_table = clr(table)"
   ]
  },
  {
   "cell_type": "code",
   "execution_count": 7,
   "id": "c588d15e",
   "metadata": {
    "scrolled": true
   },
   "outputs": [
    {
     "data": {
      "text/plain": [
       "3443 x 150 <class 'biom.table.Table'> with 516450 nonzero entries (100% dense)"
      ]
     },
     "execution_count": 7,
     "metadata": {},
     "output_type": "execute_result"
    }
   ],
   "source": [
    "new_table"
   ]
  },
  {
   "cell_type": "code",
   "execution_count": 8,
   "id": "0cd7eb0b",
   "metadata": {},
   "outputs": [
    {
     "data": {
      "text/plain": [
       "3443 x 150 <class 'biom.table.Table'> with 381245 nonzero entries (73% dense)"
      ]
     },
     "execution_count": 8,
     "metadata": {},
     "output_type": "execute_result"
    }
   ],
   "source": [
    "table"
   ]
  },
  {
   "cell_type": "code",
   "execution_count": 9,
   "id": "e2cf7555",
   "metadata": {},
   "outputs": [],
   "source": [
    "with biom.util.biom_open('../../../snakemake/data/Laske2022AD/Laske2022AD_filtered_clr.biom', 'w') as f:\n",
    "     new_table.to_hdf5(f, 'counts')"
   ]
  },
  {
   "cell_type": "code",
   "execution_count": null,
   "id": "4a6b4109",
   "metadata": {},
   "outputs": [],
   "source": [
    "#/mnt/home/djin/ceph/snakemake/data/Laske2022AD/classify\n",
    "#jobid: 1985765"
   ]
  },
  {
   "cell_type": "code",
   "execution_count": 10,
   "id": "6df2a411",
   "metadata": {},
   "outputs": [],
   "source": [
    "#ASD_250samples\n",
    "table = biom.load_table(\"../../../snakemake/data/ASD/ASD_250_3studies.biom\")\n",
    "new_table = clr(table)"
   ]
  },
  {
   "cell_type": "code",
   "execution_count": 11,
   "id": "d75de01d",
   "metadata": {},
   "outputs": [
    {
     "data": {
      "text/plain": [
       "3444 x 250 <class 'biom.table.Table'> with 635665 nonzero entries (73% dense)"
      ]
     },
     "execution_count": 11,
     "metadata": {},
     "output_type": "execute_result"
    }
   ],
   "source": [
    "table"
   ]
  },
  {
   "cell_type": "code",
   "execution_count": 12,
   "id": "b13a516b",
   "metadata": {
    "scrolled": true
   },
   "outputs": [
    {
     "data": {
      "text/plain": [
       "3444 x 250 <class 'biom.table.Table'> with 861000 nonzero entries (100% dense)"
      ]
     },
     "execution_count": 12,
     "metadata": {},
     "output_type": "execute_result"
    }
   ],
   "source": [
    "new_table"
   ]
  },
  {
   "cell_type": "code",
   "execution_count": 13,
   "id": "c1c8e5c8",
   "metadata": {},
   "outputs": [],
   "source": [
    "with biom.util.biom_open('../../../snakemake/data/ASD/ASD_250_3studies_clr.biom', 'w') as f:\n",
    "     new_table.to_hdf5(f, 'counts')"
   ]
  },
  {
   "cell_type": "code",
   "execution_count": null,
   "id": "1716869e",
   "metadata": {},
   "outputs": [],
   "source": []
  }
 ],
 "metadata": {
  "kernelspec": {
   "display_name": "Python 3 (ipykernel)",
   "language": "python",
   "name": "python3"
  },
  "language_info": {
   "codemirror_mode": {
    "name": "ipython",
    "version": 3
   },
   "file_extension": ".py",
   "mimetype": "text/x-python",
   "name": "python",
   "nbconvert_exporter": "python",
   "pygments_lexer": "ipython3",
   "version": "3.8.13"
  }
 },
 "nbformat": 4,
 "nbformat_minor": 5
}
