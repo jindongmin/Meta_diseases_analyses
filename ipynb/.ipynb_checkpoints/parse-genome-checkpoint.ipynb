{
 "cells": [
  {
   "cell_type": "code",
   "execution_count": 94,
   "id": "b8cad17f",
   "metadata": {},
   "outputs": [],
   "source": [
    "import numpy as np\n",
    "import pandas as pd\n",
    "from scipy.sparse import coo_matrix"
   ]
  },
  {
   "cell_type": "code",
   "execution_count": 47,
   "id": "30eb8ee3",
   "metadata": {},
   "outputs": [],
   "source": [
    "#run only once to generate two columns metadata_new file\n",
    "# #parse genomes-all_metadata.tsv: get species names from Lineage and Species_rep\n",
    "# metadata = pd.read_table('../../../../Downloads/genomes-all_metadata.tsv')\n",
    "# metadata_new = metadata[['Lineage','Species_rep']]\n",
    "# metadata_new['species'] = metadata_new['Lineage'].str.split(';').str[6]\n",
    "# metadata_new['Species'] = metadata_new['species'].str.split('__').str[1]\n",
    "# metadata_new = metadata_new[['Species','Species_rep']]\n",
    "# metadata_new.to_csv('../table/eggNOG_species_rep.txt', sep = '\\t', index = False)"
   ]
  },
  {
   "cell_type": "code",
   "execution_count": 95,
   "id": "932b7879",
   "metadata": {},
   "outputs": [],
   "source": [
    "metadata_new = pd.read_table('../table/eggNOG_species_rep.txt')"
   ]
  },
  {
   "cell_type": "code",
   "execution_count": 97,
   "id": "c14dab38",
   "metadata": {},
   "outputs": [],
   "source": [
    "#get the species_rep for specific species\n",
    "#  'CAG-170 sp002404795',\n",
    "#  'CAG-83 sp003487665',\n",
    "#  'UBA11452 sp003526375',\n",
    "#  'Victivallis vadensis'\n",
    "asd_cd_positive = ['CAG-170 sp002404795',\n",
    " 'CAG-83 sp003487665',\n",
    " 'UBA11452 sp003526375',\n",
    " 'Victivallis vadensis']"
   ]
  },
  {
   "cell_type": "code",
   "execution_count": 100,
   "id": "d3303893",
   "metadata": {},
   "outputs": [],
   "source": [
    "asd_cd_positive_rep = metadata_new[metadata_new['Species'].isin(asd_cd_positive)]\n",
    "Species_rep_ids = asd_cd_positive_rep['Species_rep'].drop_duplicates()"
   ]
  },
  {
   "cell_type": "code",
   "execution_count": 105,
   "id": "09d01f22",
   "metadata": {
    "scrolled": true
   },
   "outputs": [
    {
     "data": {
      "text/plain": [
       "572     MGYG000000575\n",
       "647     MGYG000000651\n",
       "2459    MGYG000002473\n",
       "2779    MGYG000002794\n",
       "Name: Species_rep, dtype: object"
      ]
     },
     "execution_count": 105,
     "metadata": {},
     "output_type": "execute_result"
    }
   ],
   "source": [
    "Species_rep_ids"
   ]
  },
  {
   "cell_type": "code",
   "execution_count": 124,
   "id": "0f3df15c",
   "metadata": {},
   "outputs": [
    {
     "data": {
      "text/plain": [
       "'http://ftp.ebi.ac.uk/pub/databases/metagenomics/mgnify_genomes/human-gut/v2.0/species_catalogue'"
      ]
     },
     "execution_count": 124,
     "metadata": {},
     "output_type": "execute_result"
    }
   ],
   "source": [
    "eggNOG_dir"
   ]
  },
  {
   "cell_type": "code",
   "execution_count": 129,
   "id": "4dba57fb",
   "metadata": {},
   "outputs": [],
   "source": [
    "import os"
   ]
  },
  {
   "cell_type": "code",
   "execution_count": 133,
   "id": "c53dfd95",
   "metadata": {},
   "outputs": [],
   "source": [
    "mkdir test1"
   ]
  },
  {
   "cell_type": "code",
   "execution_count": 135,
   "id": "5eb91c5a",
   "metadata": {},
   "outputs": [
    {
     "name": "stderr",
     "output_type": "stream",
     "text": [
      "--2022-12-06 16:19:05--  http://ftp.ebi.ac.uk/pub/databases/metagenomics/mgnify_genomes/human-gut/v2.0/species_catalogue/MGYG0000005/MGYG000000575/genome/MGYG000000575_eggNOG.tsv\n",
      "Resolving ftp.ebi.ac.uk (ftp.ebi.ac.uk)... 193.62.193.138\n",
      "Connecting to ftp.ebi.ac.uk (ftp.ebi.ac.uk)|193.62.193.138|:80... connected.\n",
      "HTTP request sent, awaiting response... 200 OK\n",
      "Length: 1183696 (1.1M) [text/tab-separated-values]\n",
      "Saving to: ‘test1/MGYG000000575_eggNOG.tsv’\n",
      "\n",
      "     0K .......... .......... .......... .......... ..........  4%  273K 4s\n",
      "    50K .......... .......... .......... .......... ..........  8%  555K 3s\n",
      "   100K .......... .......... .......... .......... .......... 12% 49.5M 2s\n",
      "   150K .......... .......... .......... .......... .......... 17% 54.4M 1s\n",
      "   200K .......... .......... .......... .......... .......... 21%  565K 1s\n",
      "   250K .......... .......... .......... .......... .......... 25% 18.0M 1s\n",
      "   300K .......... .......... .......... .......... .......... 30% 70.9M 1s\n",
      "   350K .......... .......... .......... .......... .......... 34% 62.9M 1s\n",
      "   400K .......... .......... .......... .......... .......... 38%  557K 1s\n",
      "   450K .......... .......... .......... .......... .......... 43% 77.5M 1s\n",
      "   500K .......... .......... .......... .......... .......... 47% 79.5M 1s\n",
      "   550K .......... .......... .......... .......... .......... 51% 19.3M 0s\n",
      "   600K .......... .......... .......... .......... .......... 56%  118M 0s\n",
      "   650K .......... .......... .......... .......... .......... 60%  151M 0s\n",
      "   700K .......... .......... .......... .......... .......... 64%  109M 0s\n",
      "   750K .......... .......... .......... .......... .......... 69%  145M 0s\n",
      "   800K .......... .......... .......... .......... .......... 73%  133M 0s\n",
      "   850K .......... .......... .......... .......... .......... 77%  570K 0s\n",
      "   900K .......... .......... .......... .......... .......... 82% 45.9M 0s\n",
      "   950K .......... .......... .......... .......... .......... 86% 85.8M 0s\n",
      "  1000K .......... .......... .......... .......... .......... 90% 40.9M 0s\n",
      "  1050K .......... .......... .......... .......... .......... 95% 78.5M 0s\n",
      "  1100K .......... .......... .......... .......... .......... 99% 81.0M 0s\n",
      "  1150K .....                                                 100% 34.2M=0.6s\n",
      "\n",
      "2022-12-06 16:19:06 (2.03 MB/s) - ‘test1/MGYG000000575_eggNOG.tsv’ saved [1183696/1183696]\n",
      "\n",
      "--2022-12-06 16:19:06--  http://ftp.ebi.ac.uk/pub/databases/metagenomics/mgnify_genomes/human-gut/v2.0/species_catalogue/MGYG0000006/MGYG000000651/genome/MGYG000000651_eggNOG.tsv\n",
      "Resolving ftp.ebi.ac.uk (ftp.ebi.ac.uk)... 193.62.193.138\n",
      "Connecting to ftp.ebi.ac.uk (ftp.ebi.ac.uk)|193.62.193.138|:80... connected.\n",
      "HTTP request sent, awaiting response... 200 OK\n",
      "Length: 663240 (648K) [text/tab-separated-values]\n",
      "Saving to: ‘test1/MGYG000000651_eggNOG.tsv’\n",
      "\n",
      "     0K .......... .......... .......... .......... ..........  7%  253K 2s\n",
      "    50K .......... .......... .......... .......... .......... 15%  556K 2s\n",
      "   100K .......... .......... .......... .......... .......... 23% 69.8M 1s\n",
      "   150K .......... .......... .......... .......... .......... 30%  557K 1s\n",
      "   200K .......... .......... .......... .......... .......... 38%  545K 1s\n",
      "   250K .......... .......... .......... .......... .......... 46%  546K 1s\n",
      "   300K .......... .......... .......... .......... .......... 54%  561K 1s\n",
      "   350K .......... .......... .......... .......... .......... 61% 66.2M 0s\n",
      "   400K .......... .......... .......... .......... .......... 69%  556K 0s\n",
      "   450K .......... .......... .......... .......... .......... 77%  540K 0s\n",
      "   500K .......... .......... .......... .......... .......... 84%  561K 0s\n",
      "   550K .......... .......... .......... .......... .......... 92%  514K 0s\n",
      "   600K .......... .......... .......... .......... .......   100%  103M=1.0s\n",
      "\n",
      "2022-12-06 16:19:07 (634 KB/s) - ‘test1/MGYG000000651_eggNOG.tsv’ saved [663240/663240]\n",
      "\n",
      "--2022-12-06 16:19:07--  http://ftp.ebi.ac.uk/pub/databases/metagenomics/mgnify_genomes/human-gut/v2.0/species_catalogue/MGYG0000024/MGYG000002473/genome/MGYG000002473_eggNOG.tsv\n",
      "Resolving ftp.ebi.ac.uk (ftp.ebi.ac.uk)... 193.62.193.138\n",
      "Connecting to ftp.ebi.ac.uk (ftp.ebi.ac.uk)|193.62.193.138|:80... connected.\n",
      "HTTP request sent, awaiting response... 200 OK\n",
      "Length: 1031694 (1008K) [text/tab-separated-values]\n",
      "Saving to: ‘test1/MGYG000002473_eggNOG.tsv’\n",
      "\n",
      "     0K .......... .......... .......... .......... ..........  4%  277K 3s\n",
      "    50K .......... .......... .......... .......... ..........  9%  553K 2s\n",
      "   100K .......... .......... .......... .......... .......... 14% 62.6M 2s\n",
      "   150K .......... .......... .......... .......... .......... 19%  554K 1s\n",
      "   200K .......... .......... .......... .......... .......... 24% 70.5M 1s\n",
      "   250K .......... .......... .......... .......... .......... 29%  525K 1s\n",
      "   300K .......... .......... .......... .......... .......... 34%  573K 1s\n",
      "   350K .......... .......... .......... .......... .......... 39% 74.8M 1s\n",
      "   400K .......... .......... .......... .......... .......... 44%  512K 1s\n",
      "   450K .......... .......... .......... .......... .......... 49% 31.9M 1s\n",
      "   500K .......... .......... .......... .......... .......... 54%  550K 1s\n",
      "   550K .......... .......... .......... .......... .......... 59% 15.4M 1s\n",
      "   600K .......... .......... .......... .......... .......... 64%  572K 0s\n",
      "   650K .......... .......... .......... .......... .......... 69% 37.2M 0s\n",
      "   700K .......... .......... .......... .......... .......... 74%  560K 0s\n",
      "   750K .......... .......... .......... .......... .......... 79%  117M 0s\n",
      "   800K .......... .......... .......... .......... .......... 84%  556K 0s\n",
      "   850K .......... .......... .......... .......... .......... 89% 88.6M 0s\n",
      "   900K .......... .......... .......... .......... .......... 94% 97.9M 0s\n",
      "   950K .......... .......... .......... .......... .......... 99%  553K 0s\n",
      "  1000K .......                                               100% 27.5M=1.1s\n",
      "\n",
      "2022-12-06 16:19:09 (917 KB/s) - ‘test1/MGYG000002473_eggNOG.tsv’ saved [1031694/1031694]\n",
      "\n",
      "--2022-12-06 16:19:09--  http://ftp.ebi.ac.uk/pub/databases/metagenomics/mgnify_genomes/human-gut/v2.0/species_catalogue/MGYG0000027/MGYG000002794/genome/MGYG000002794_eggNOG.tsv\n",
      "Resolving ftp.ebi.ac.uk (ftp.ebi.ac.uk)... 193.62.193.138\n",
      "Connecting to ftp.ebi.ac.uk (ftp.ebi.ac.uk)|193.62.193.138|:80... connected.\n",
      "HTTP request sent, awaiting response... 200 OK\n",
      "Length: 537533 (525K) [text/tab-separated-values]\n",
      "Saving to: ‘test1/MGYG000002794_eggNOG.tsv’\n",
      "\n",
      "     0K .......... .......... .......... .......... ..........  9%  271K 2s\n",
      "    50K .......... .......... .......... .......... .......... 19%  592K 1s\n",
      "   100K .......... .......... .......... .......... .......... 28% 83.2M 1s\n",
      "   150K .......... .......... .......... .......... .......... 38%  556K 1s\n",
      "   200K .......... .......... .......... .......... .......... 47%  543K 0s\n",
      "   250K .......... .......... .......... .......... .......... 57%  552K 0s\n",
      "   300K .......... .......... .......... .......... .......... 66%  538K 0s\n",
      "   350K .......... .......... .......... .......... .......... 76%  110M 0s\n",
      "   400K .......... .......... .......... .......... .......... 85%  556K 0s\n",
      "   450K .......... .......... .......... .......... .......... 95% 39.6K 0s\n",
      "   500K .......... .......... ....                            100% 35.4K=2.7s\n",
      "\n",
      "2022-12-06 16:19:11 (195 KB/s) - ‘test1/MGYG000002794_eggNOG.tsv’ saved [537533/537533]\n",
      "\n"
     ]
    }
   ],
   "source": [
    "for i in Species_rep_ids:\n",
    "    os.system(\"wget '{}/{}/{}/genome/{}_eggNOG.tsv' -O test1/{}_eggNOG.tsv\".format(eggNOG_dir, i[:-2], i, i, i))"
   ]
  },
  {
   "cell_type": "code",
   "execution_count": 137,
   "id": "e3b5c491",
   "metadata": {
    "scrolled": true
   },
   "outputs": [
    {
     "name": "stdout",
     "output_type": "stream",
     "text": [
      "MGYG000000575_eggNOG.tsv  MGYG000002473_eggNOG.tsv\r\n",
      "MGYG000000651_eggNOG.tsv  MGYG000002794_eggNOG.tsv\r\n"
     ]
    }
   ],
   "source": [
    "ls test1"
   ]
  },
  {
   "cell_type": "code",
   "execution_count": 127,
   "id": "5a2f47cd",
   "metadata": {},
   "outputs": [
    {
     "ename": "TypeError",
     "evalue": "unsupported operand type(s) for /: 'str' and 'str'",
     "output_type": "error",
     "traceback": [
      "\u001b[0;31m---------------------------------------------------------------------------\u001b[0m",
      "\u001b[0;31mTypeError\u001b[0m                                 Traceback (most recent call last)",
      "Input \u001b[0;32mIn [127]\u001b[0m, in \u001b[0;36m<cell line: 1>\u001b[0;34m()\u001b[0m\n\u001b[0;32m----> 1\u001b[0m \u001b[43mi\u001b[49m\u001b[43m[\u001b[49m\u001b[43m:\u001b[49m\u001b[38;5;241;43m-\u001b[39;49m\u001b[38;5;241;43m2\u001b[39;49m\u001b[43m]\u001b[49m\u001b[38;5;241;43m/\u001b[39;49m\u001b[43mi\u001b[49m\u001b[38;5;241m/\u001b[39m\u001b[38;5;124m\"\u001b[39m\u001b[38;5;124mgenome\u001b[39m\u001b[38;5;124m\"\u001b[39m\u001b[38;5;241m/\u001b[39m\u001b[38;5;124m\"\u001b[39m\u001b[38;5;124mi__eggNOG.tsv\u001b[39m\u001b[38;5;124m\"\u001b[39m\n",
      "\u001b[0;31mTypeError\u001b[0m: unsupported operand type(s) for /: 'str' and 'str'"
     ]
    }
   ],
   "source": [
    "i[:-2]/i/\"genome/i__eggNOG.tsv\""
   ]
  },
  {
   "cell_type": "code",
   "execution_count": null,
   "id": "fc3414c4",
   "metadata": {},
   "outputs": [],
   "source": []
  },
  {
   "cell_type": "code",
   "execution_count": null,
   "id": "f2d8d53b",
   "metadata": {},
   "outputs": [],
   "source": []
  },
  {
   "cell_type": "code",
   "execution_count": 91,
   "id": "846d0981",
   "metadata": {
    "scrolled": false
   },
   "outputs": [
    {
     "name": "stdout",
     "output_type": "stream",
     "text": [
      "--2022-12-05 18:05:12--  http://ftp.ebi.ac.uk/pub/databases/metagenomics/mgnify_genomes/human-gut/v2.0/species_catalogue/MGYG0000005/MGYG000000575/genome/MGYG000000575_eggNOG.tsv\n",
      "Resolving ftp.ebi.ac.uk (ftp.ebi.ac.uk)... 193.62.193.138\n",
      "Connecting to ftp.ebi.ac.uk (ftp.ebi.ac.uk)|193.62.193.138|:80... connected.\n",
      "HTTP request sent, awaiting response... 200 OK\n",
      "Length: 1183696 (1.1M) [text/tab-separated-values]\n",
      "Saving to: ‘MGYG000000575_eggNOG.tsv.1’\n",
      "\n",
      "MGYG000000575_eggNO 100%[===================>]   1.13M  2.51MB/s    in 0.4s    \n",
      "\n",
      "2022-12-05 18:05:13 (2.51 MB/s) - ‘MGYG000000575_eggNOG.tsv.1’ saved [1183696/1183696]\n",
      "\n",
      "--2022-12-05 18:05:13--  http://ftp.ebi.ac.uk/pub/databases/metagenomics/mgnify_genomes/human-gut/v2.0/species_catalogue/MGYG0000006/MGYG000000651/genome/MGYG000000651_eggNOG.tsv\n",
      "Resolving ftp.ebi.ac.uk (ftp.ebi.ac.uk)... 193.62.193.138\n",
      "Connecting to ftp.ebi.ac.uk (ftp.ebi.ac.uk)|193.62.193.138|:80... connected.\n",
      "HTTP request sent, awaiting response... 200 OK\n",
      "Length: 663240 (648K) [text/tab-separated-values]\n",
      "Saving to: ‘MGYG000000651_eggNOG.tsv.1’\n",
      "\n",
      "MGYG000000651_eggNO 100%[===================>] 647.70K   800KB/s    in 0.8s    \n",
      "\n",
      "2022-12-05 18:05:14 (800 KB/s) - ‘MGYG000000651_eggNOG.tsv.1’ saved [663240/663240]\n",
      "\n",
      "--2022-12-05 18:05:14--  http://ftp.ebi.ac.uk/pub/databases/metagenomics/mgnify_genomes/human-gut/v2.0/species_catalogue/MGYG0000024/MGYG000002473/genome/MGYG000002473_eggNOG.tsv\n",
      "Resolving ftp.ebi.ac.uk (ftp.ebi.ac.uk)... 193.62.193.138\n",
      "Connecting to ftp.ebi.ac.uk (ftp.ebi.ac.uk)|193.62.193.138|:80... connected.\n",
      "HTTP request sent, awaiting response... 200 OK\n",
      "Length: 1031694 (1008K) [text/tab-separated-values]\n",
      "Saving to: ‘MGYG000002473_eggNOG.tsv.1’\n",
      "\n",
      "MGYG000002473_eggNO 100%[===================>]   1008K   800KB/s    in 1.3s    \n",
      "\n",
      "2022-12-05 18:05:15 (800 KB/s) - ‘MGYG000002473_eggNOG.tsv.1’ saved [1031694/1031694]\n",
      "\n",
      "--2022-12-05 18:05:16--  http://ftp.ebi.ac.uk/pub/databases/metagenomics/mgnify_genomes/human-gut/v2.0/species_catalogue/MGYG0000027/MGYG000002794/genome/MGYG000002794_eggNOG.tsv\n",
      "Resolving ftp.ebi.ac.uk (ftp.ebi.ac.uk)... 193.62.193.138\n",
      "Connecting to ftp.ebi.ac.uk (ftp.ebi.ac.uk)|193.62.193.138|:80... connected.\n",
      "HTTP request sent, awaiting response... 200 OK\n",
      "Length: 537533 (525K) [text/tab-separated-values]\n",
      "Saving to: ‘MGYG000002794_eggNOG.tsv.1’\n",
      "\n",
      "MGYG000002794_eggNO 100%[===================>] 524.93K   788KB/s    in 0.7s    \n",
      "\n",
      "2022-12-05 18:05:16 (788 KB/s) - ‘MGYG000002794_eggNOG.tsv.1’ saved [537533/537533]\n",
      "\n"
     ]
    }
   ],
   "source": [
    "#download the eggNOG tsv files\n",
    "!cd ../table/\n",
    "!mkdir eggNOG_asd_cd\n",
    "eggNOG_dir = 'http://ftp.ebi.ac.uk/pub/databases/metagenomics/mgnify_genomes/human-gut/v2.0/species_catalogue'\n",
    "!wget '{eggNOG_dir}/MGYG0000005/MGYG000000575/genome/MGYG000000575_eggNOG.tsv'\n",
    "!wget '{eggNOG_dir}/MGYG0000006/MGYG000000651/genome/MGYG000000651_eggNOG.tsv'\n",
    "!wget '{eggNOG_dir}/MGYG0000024/MGYG000002473/genome/MGYG000002473_eggNOG.tsv'\n",
    "!wget '{eggNOG_dir}/MGYG0000027/MGYG000002794/genome/MGYG000002794_eggNOG.tsv'\n",
    "\n"
   ]
  },
  {
   "cell_type": "code",
   "execution_count": 87,
   "id": "9625f7b1",
   "metadata": {},
   "outputs": [],
   "source": [
    "rm MGYG000000651_eggNOG.tsv.2"
   ]
  },
  {
   "cell_type": "code",
   "execution_count": 93,
   "id": "34400886",
   "metadata": {},
   "outputs": [
    {
     "name": "stdout",
     "output_type": "stream",
     "text": [
      "ls: ../table/eggNOG_asd_cd: No such file or directory\r\n"
     ]
    }
   ],
   "source": [
    "ls ../table/eggNOG_asd_cd"
   ]
  },
  {
   "cell_type": "code",
   "execution_count": 21,
   "id": "df5808ff",
   "metadata": {},
   "outputs": [
    {
     "name": "stdout",
     "output_type": "stream",
     "text": [
      "--2022-12-05 17:11:56--  http://ftp.ebi.ac.uk/pub/databases/metagenomics/mgnify_genomes/human-gut/v2.0/species_catalogue/MGYG0000005/MGYG000000505/genome/MGYG000000505_eggNOG.tsv\n",
      "Resolving ftp.ebi.ac.uk (ftp.ebi.ac.uk)... 193.62.193.138\n",
      "Connecting to ftp.ebi.ac.uk (ftp.ebi.ac.uk)|193.62.193.138|:80... connected.\n",
      "HTTP request sent, awaiting response... 200 OK\n",
      "Length: 330042 (322K) [text/tab-separated-values]\n",
      "Saving to: ‘MGYG000000505_eggNOG.tsv’\n",
      "\n",
      "MGYG000000505_eggNO 100%[===================>] 322.31K   724KB/s    in 0.4s    \n",
      "\n",
      "2022-12-05 17:11:57 (724 KB/s) - ‘MGYG000000505_eggNOG.tsv’ saved [330042/330042]\n",
      "\n"
     ]
    }
   ],
   "source": [
    "!wget http://ftp.ebi.ac.uk/pub/databases/metagenomics/mgnify_genomes/human-gut/v2.0/species_catalogue/MGYG0000005/MGYG000000505/genome/MGYG000000505_eggNOG.tsv"
   ]
  },
  {
   "cell_type": "code",
   "execution_count": 23,
   "id": "ccd0edca",
   "metadata": {},
   "outputs": [],
   "source": [
    "rm MGYG000000505_eggNOG.tsv"
   ]
  },
  {
   "cell_type": "code",
   "execution_count": 24,
   "id": "c0b1b391",
   "metadata": {},
   "outputs": [
    {
     "name": "stdout",
     "output_type": "stream",
     "text": [
      "SHAP_plots.ipynb                     human-gut\r\n",
      "SHAP_values.ipynb                    log2foldchange_CI_5_95_deseq2.ipynb\r\n",
      "SHAP_values_SummaryPlot.ipynb        parse-genome.ipynb\r\n",
      "Venn_diagram.ipynb                   prototype_sample_size.ipynb\r\n",
      "filter_biom_table.ipynb\r\n"
     ]
    }
   ],
   "source": [
    "ls"
   ]
  },
  {
   "cell_type": "code",
   "execution_count": 4,
   "id": "9dfc1bb3",
   "metadata": {},
   "outputs": [
    {
     "name": "stdout",
     "output_type": "stream",
     "text": [
      "../../../../Downloads/MGYG000000001_eggNOG.tsv\r\n",
      "../../../../Downloads/MGYG000000190_eggNOG.tsv\r\n",
      "../../../../Downloads/MGYG000000784_eggNOG.tsv\r\n",
      "../../../../Downloads/MGYG000000968_eggNOG.tsv\r\n",
      "../../../../Downloads/MGYG000001737_eggNOG.tsv\r\n",
      "../../../../Downloads/MGYG000002616_eggNOG.tsv\r\n",
      "../../../../Downloads/MGYG000002834_eggNOG.tsv\r\n",
      "../../../../Downloads/MGYG000004117_eggNOG.tsv\r\n",
      "../../../../Downloads/MGYG000004456_eggNOG.tsv\r\n"
     ]
    }
   ],
   "source": [
    "!ls ../../../../Downloads/*_eggNOG.tsv"
   ]
  },
  {
   "cell_type": "code",
   "execution_count": 5,
   "id": "3cf4251a",
   "metadata": {},
   "outputs": [],
   "source": [
    "df1 = pd.read_table('../../../../Downloads/MGYG000000001_eggNOG.tsv')\n",
    "df2 = pd.read_table('../../../../Downloads/MGYG000002834_eggNOG.tsv')"
   ]
  },
  {
   "cell_type": "code",
   "execution_count": 6,
   "id": "3d81bd6e",
   "metadata": {},
   "outputs": [],
   "source": [
    "def parse_genome(df):\n",
    "    genome_id = df['#query'][0].split('_')[0]\n",
    "    keggs = df['KEGG_ko'].replace('-', None).dropna()\n",
    "    keggs = list(map(lambda x: x.split(','), keggs.values))\n",
    "    keggs = sum(keggs, [])\n",
    "    keggs = pd.DataFrame({'KEGG_ko': keggs})\n",
    "    keggs['genome_id'] = genome_id\n",
    "    return keggs"
   ]
  },
  {
   "cell_type": "code",
   "execution_count": 7,
   "id": "bb14e907",
   "metadata": {},
   "outputs": [],
   "source": [
    "df1 = parse_genome(df1)\n",
    "df2 = parse_genome(df2)\n",
    "df = pd.concat((df1, df2), axis=0)"
   ]
  },
  {
   "cell_type": "code",
   "execution_count": 8,
   "id": "b5ebb7ef",
   "metadata": {},
   "outputs": [],
   "source": [
    "def to_sparse_matrix(func_df, genome_id='genome_id', kegg_id='KEGG_ko'):\n",
    "    # create genome-specific index\n",
    "    ogus = list(set(func_df[genome_id]))\n",
    "    ogu_lookup = pd.Series(np.arange(0, len(ogus)), ogus)\n",
    "    # create KEGG-specific index\n",
    "    keggs = list(set(func_df[kegg_id]))\n",
    "    kegg_lookup = pd.Series(np.arange(0, len(keggs)), keggs)\n",
    "    # rename names as numbers\n",
    "    ogu_id = func_df[genome_id].apply(lambda x: ogu_lookup.loc[x]).astype(np.int64)\n",
    "    kegg_id = func_df[kegg_id].apply(lambda x: kegg_lookup.loc[x]).astype(np.int64)\n",
    "    # assign the presence / absence of a gene\n",
    "    func_df['count'] = 1\n",
    "    c = func_df['count'].values\n",
    "    # format into a matrix\n",
    "    data = coo_matrix((c, (ogu_id, kegg_id)))\n",
    "    ko_ogu = pd.DataFrame(data.todense(), index=ogus, columns=keggs)\n",
    "    return ko_ogu"
   ]
  },
  {
   "cell_type": "code",
   "execution_count": 9,
   "id": "00131489",
   "metadata": {},
   "outputs": [],
   "source": [
    "genome_kegg_counts = to_sparse_matrix(df)"
   ]
  },
  {
   "cell_type": "code",
   "execution_count": 11,
   "id": "0a38ac1d",
   "metadata": {},
   "outputs": [],
   "source": [
    "genome_kegg_counts.to_csv('../../kegg_test.csv')"
   ]
  },
  {
   "cell_type": "code",
   "execution_count": null,
   "id": "c48c1609",
   "metadata": {},
   "outputs": [],
   "source": [
    "#compare controls and cases: for top 100 microbes?\n",
    "# perform statistical test\n",
    "kegg_asd_wgs = btest(kegg_con_wgs, kegg_asd_wgs, return_proportions=False)\n",
    "kegg_asd_wgs = pd.DataFrame({'pvalue': kegg_asd_wgs})\n",
    "kegg_asd_wgs = kegg_asd_wgs.reset_index().rename(columns={'index': 'KEGG'})\n",
    "kegg_asd_wgs = log_pvalue(kegg_asd_wgs, alpha=0.1)\n",
    "sig_wgs = aggregate_pathways(\n",
    "    pathway_name_file=f'{kegg_dir}/pathway_name.txt',\n",
    "    pathway_to_ko_file=f'{kegg_dir}/pathway-to-ko.txt',\n",
    "    features=kegg_asd_wgs\n",
    ")"
   ]
  }
 ],
 "metadata": {
  "kernelspec": {
   "display_name": "Python 3 (ipykernel)",
   "language": "python",
   "name": "python3"
  },
  "language_info": {
   "codemirror_mode": {
    "name": "ipython",
    "version": 3
   },
   "file_extension": ".py",
   "mimetype": "text/x-python",
   "name": "python",
   "nbconvert_exporter": "python",
   "pygments_lexer": "ipython3",
   "version": "3.9.10"
  }
 },
 "nbformat": 4,
 "nbformat_minor": 5
}
