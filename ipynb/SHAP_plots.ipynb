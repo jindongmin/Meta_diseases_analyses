{
 "cells": [
  {
   "cell_type": "code",
   "execution_count": 34,
   "id": "d802ac66",
   "metadata": {},
   "outputs": [],
   "source": [
    "import pandas as pd\n",
    "table_t2d = pd.read_table('../table/QinT2D_shapely.txt')\n",
    "Metadata = pd.read_table('../../Qin2012T2D/Qin2012T2D_metadata_matched.txt')\n",
    "Metadata = Metadata[['Run','Diabetic']]"
   ]
  },
  {
   "cell_type": "code",
   "execution_count": 35,
   "id": "48d04944",
   "metadata": {},
   "outputs": [],
   "source": [
    "Metadata = Metadata.replace('Y', 'T2D')\n",
    "Metadata = Metadata.replace('N', 'Healthy')"
   ]
  },
  {
   "cell_type": "code",
   "execution_count": 36,
   "id": "d2e4b16f",
   "metadata": {},
   "outputs": [],
   "source": [
    "Metadata = Metadata.rename(columns={\"Run\":\"id\",\"Diabetic\":\"Status\"})"
   ]
  },
  {
   "cell_type": "code",
   "execution_count": 37,
   "id": "5224c17a",
   "metadata": {},
   "outputs": [
    {
     "data": {
      "text/html": [
       "<div>\n",
       "<style scoped>\n",
       "    .dataframe tbody tr th:only-of-type {\n",
       "        vertical-align: middle;\n",
       "    }\n",
       "\n",
       "    .dataframe tbody tr th {\n",
       "        vertical-align: top;\n",
       "    }\n",
       "\n",
       "    .dataframe thead th {\n",
       "        text-align: right;\n",
       "    }\n",
       "</style>\n",
       "<table border=\"1\" class=\"dataframe\">\n",
       "  <thead>\n",
       "    <tr style=\"text-align: right;\">\n",
       "      <th></th>\n",
       "      <th>id</th>\n",
       "      <th>Status</th>\n",
       "    </tr>\n",
       "  </thead>\n",
       "  <tbody>\n",
       "    <tr>\n",
       "      <th>0</th>\n",
       "      <td>SRR341581</td>\n",
       "      <td>T2D</td>\n",
       "    </tr>\n",
       "    <tr>\n",
       "      <th>1</th>\n",
       "      <td>SRR341582</td>\n",
       "      <td>T2D</td>\n",
       "    </tr>\n",
       "    <tr>\n",
       "      <th>2</th>\n",
       "      <td>SRR341583</td>\n",
       "      <td>T2D</td>\n",
       "    </tr>\n",
       "    <tr>\n",
       "      <th>3</th>\n",
       "      <td>SRR341584</td>\n",
       "      <td>T2D</td>\n",
       "    </tr>\n",
       "    <tr>\n",
       "      <th>4</th>\n",
       "      <td>SRR341585</td>\n",
       "      <td>T2D</td>\n",
       "    </tr>\n",
       "    <tr>\n",
       "      <th>...</th>\n",
       "      <td>...</td>\n",
       "      <td>...</td>\n",
       "    </tr>\n",
       "    <tr>\n",
       "      <th>147</th>\n",
       "      <td>SRR1778452</td>\n",
       "      <td>T2D</td>\n",
       "    </tr>\n",
       "    <tr>\n",
       "      <th>148</th>\n",
       "      <td>SRR1778453</td>\n",
       "      <td>T2D</td>\n",
       "    </tr>\n",
       "    <tr>\n",
       "      <th>149</th>\n",
       "      <td>SRR1778454</td>\n",
       "      <td>T2D</td>\n",
       "    </tr>\n",
       "    <tr>\n",
       "      <th>150</th>\n",
       "      <td>SRR1778455</td>\n",
       "      <td>T2D</td>\n",
       "    </tr>\n",
       "    <tr>\n",
       "      <th>151</th>\n",
       "      <td>SRR1778456</td>\n",
       "      <td>T2D</td>\n",
       "    </tr>\n",
       "  </tbody>\n",
       "</table>\n",
       "<p>152 rows × 2 columns</p>\n",
       "</div>"
      ],
      "text/plain": [
       "             id Status\n",
       "0     SRR341581    T2D\n",
       "1     SRR341582    T2D\n",
       "2     SRR341583    T2D\n",
       "3     SRR341584    T2D\n",
       "4     SRR341585    T2D\n",
       "..          ...    ...\n",
       "147  SRR1778452    T2D\n",
       "148  SRR1778453    T2D\n",
       "149  SRR1778454    T2D\n",
       "150  SRR1778455    T2D\n",
       "151  SRR1778456    T2D\n",
       "\n",
       "[152 rows x 2 columns]"
      ]
     },
     "execution_count": 37,
     "metadata": {},
     "output_type": "execute_result"
    }
   ],
   "source": [
    "Metadata"
   ]
  },
  {
   "cell_type": "code",
   "execution_count": 38,
   "id": "a6dec832",
   "metadata": {},
   "outputs": [],
   "source": [
    "df = table_t2d\n",
    "df = df.loc[:, (df != 0).any(axis=0)]"
   ]
  },
  {
   "cell_type": "code",
   "execution_count": 39,
   "id": "e1ad60b4",
   "metadata": {
    "scrolled": true
   },
   "outputs": [
    {
     "name": "stderr",
     "output_type": "stream",
     "text": [
      "/var/folders/0g/jffzlx7x0v37frp3q4ssdnp80000gn/T/ipykernel_23278/39549284.py:1: FutureWarning: Dropping of nuisance columns in DataFrame reductions (with 'numeric_only=None') is deprecated; in a future version this will raise TypeError.  Select only valid columns before calling the reduction.\n",
      "  df['sum'] = df.sum(axis=1)\n",
      "/var/folders/0g/jffzlx7x0v37frp3q4ssdnp80000gn/T/ipykernel_23278/39549284.py:1: SettingWithCopyWarning: \n",
      "A value is trying to be set on a copy of a slice from a DataFrame.\n",
      "Try using .loc[row_indexer,col_indexer] = value instead\n",
      "\n",
      "See the caveats in the documentation: https://pandas.pydata.org/pandas-docs/stable/user_guide/indexing.html#returning-a-view-versus-a-copy\n",
      "  df['sum'] = df.sum(axis=1)\n"
     ]
    }
   ],
   "source": [
    "df['sum'] = df.sum(axis=1)"
   ]
  },
  {
   "cell_type": "code",
   "execution_count": 41,
   "id": "211d69fe",
   "metadata": {},
   "outputs": [],
   "source": [
    "df.merge(Metadata, how = 'left',on = 'id').to_csv('../table/QinT2D_shapely_new.txt', sep = '\\t')"
   ]
  },
  {
   "cell_type": "code",
   "execution_count": null,
   "id": "beee6a60",
   "metadata": {},
   "outputs": [],
   "source": []
  }
 ],
 "metadata": {
  "kernelspec": {
   "display_name": "Python 3 (ipykernel)",
   "language": "python",
   "name": "python3"
  },
  "language_info": {
   "codemirror_mode": {
    "name": "ipython",
    "version": 3
   },
   "file_extension": ".py",
   "mimetype": "text/x-python",
   "name": "python",
   "nbconvert_exporter": "python",
   "pygments_lexer": "ipython3",
   "version": "3.9.10"
  }
 },
 "nbformat": 4,
 "nbformat_minor": 5
}
